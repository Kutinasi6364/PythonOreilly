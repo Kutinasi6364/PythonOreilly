{
 "cells": [
  {
   "cell_type": "markdown",
   "id": "6074fa7d-6fed-4d3b-8095-c94abe161831",
   "metadata": {},
   "source": [
    "# 線形回帰(通常最小二乗法)"
   ]
  },
  {
   "cell_type": "code",
   "execution_count": 12,
   "id": "c5afd0de-2603-48f4-969c-90fd45e3a2fb",
   "metadata": {},
   "outputs": [],
   "source": [
    "import mglearn\n",
    "import mglearn.datasets as mgdata # cachedir='cache' を location='cache'に変更\n",
    "from sklearn.model_selection import train_test_split\n",
    "from sklearn.linear_model import LinearRegression # 線形回帰モデル"
   ]
  },
  {
   "cell_type": "code",
   "execution_count": 13,
   "id": "7a3364f3-1b29-4d0a-91f5-30a65fb24bf0",
   "metadata": {},
   "outputs": [],
   "source": [
    "X, y = mglearn.datasets.make_wave(n_samples=60)\n",
    "X_train, X_test, y_train, y_test = train_test_split(X, y, random_state=42)\n",
    "\n",
    "lr = LinearRegression().fit(X_train, y_train)"
   ]
  },
  {
   "cell_type": "code",
   "execution_count": 14,
   "id": "289c2a09-72b9-482a-85b2-d5bd78c6383f",
   "metadata": {},
   "outputs": [
    {
     "name": "stdout",
     "output_type": "stream",
     "text": [
      "[0.39390555]\n",
      "-0.031804343026759746\n"
     ]
    }
   ],
   "source": [
    "print(lr.coef_) # 係数(傾き)\n",
    "print(lr.intercept_) # 切片"
   ]
  },
  {
   "cell_type": "markdown",
   "id": "088f0f6f-b4b5-43d7-b55b-5d2a102d3e16",
   "metadata": {},
   "source": [
    "scikit-learn では、訓練データから得た属性に[ _ ]を付ける"
   ]
  },
  {
   "cell_type": "code",
   "execution_count": 15,
   "id": "45381f4e-0d76-49c6-a1f0-a40ef1c6afff",
   "metadata": {},
   "outputs": [
    {
     "name": "stdout",
     "output_type": "stream",
     "text": [
      "Training score : 0.67\n",
      "Test score : 0.66\n"
     ]
    }
   ],
   "source": [
    "print(\"Training score : {:.2F}\".format(lr.score(X_train, y_train)))\n",
    "print(\"Test score : {:.2F}\".format(lr.score(X_test, y_test)))"
   ]
  },
  {
   "cell_type": "markdown",
   "id": "284d682a-3d85-47e8-be4d-d23ec836ac95",
   "metadata": {},
   "source": [
    "精度はあまり良くないが、訓練とテストのスコアが近いため、過剰適合は起こしていない。  \n",
    "1次元データは単純なため過剰適合の可能性は低いが、高次元のデータセット(特徴量が多い)の場合は可能性は高くなる。"
   ]
  },
  {
   "cell_type": "markdown",
   "id": "7e20e161-133d-48e6-904a-26b7f148598e",
   "metadata": {},
   "source": [
    "以降ボストン家賃データセットへ"
   ]
  },
  {
   "cell_type": "code",
   "execution_count": null,
   "id": "17b5ccb9-d145-4073-be12-4b42413a4706",
   "metadata": {},
   "outputs": [],
   "source": []
  }
 ],
 "metadata": {
  "kernelspec": {
   "display_name": "Python 3 (ipykernel)",
   "language": "python",
   "name": "python3"
  },
  "language_info": {
   "codemirror_mode": {
    "name": "ipython",
    "version": 3
   },
   "file_extension": ".py",
   "mimetype": "text/x-python",
   "name": "python",
   "nbconvert_exporter": "python",
   "pygments_lexer": "ipython3",
   "version": "3.10.5"
  }
 },
 "nbformat": 4,
 "nbformat_minor": 5
}
